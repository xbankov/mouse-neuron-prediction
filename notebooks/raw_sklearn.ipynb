{
 "cells": [
  {
   "cell_type": "code",
   "execution_count": 13,
   "metadata": {
    "colab": {},
    "colab_type": "code",
    "id": "J2USs6gZtxik"
   },
   "outputs": [],
   "source": [
    "from pathlib import Path\n",
    "import os\n",
    "import scipy.io as sio\n",
    "import pandas as pd\n",
    "import numpy as np\n",
    "from tqdm import tqdm\n",
    "from sklearn.model_selection import train_test_split\n",
    "from sklearn.preprocessing import LabelEncoder\n",
    "from sklearn.ensemble import AdaBoostClassifier\n",
    "from sklearn.ensemble import RandomForestClassifier\n",
    "from sklearn.metrics import accuracy_score\n",
    "from xgboost import XGBClassifier\n",
    "from sklearn.preprocessing import StandardScaler\n",
    "from sklearn.model_selection import cross_val_score\n",
    "from sklearn.metrics import confusion_matrix"
   ]
  },
  {
   "cell_type": "code",
   "execution_count": 18,
   "metadata": {
    "colab": {
     "base_uri": "https://localhost:8080/",
     "height": 35
    },
    "colab_type": "code",
    "executionInfo": {
     "elapsed": 1600,
     "status": "ok",
     "timestamp": 1578510349525,
     "user": {
      "displayName": "Mikuláš Bankovič",
      "photoUrl": "https://lh3.googleusercontent.com/a-/AAuE7mDCaJEaq2sAZjOV4AiuVtsWXPcs2O1AMiAqq2_9PXs=s64",
      "userId": "15633896100306712270"
     },
     "user_tz": -60
    },
    "id": "7mjTCRJS6ZFA",
    "outputId": "4717bf8f-0aa9-415d-a462-168ea974f88d"
   },
   "outputs": [],
   "source": [
    "path = Path('C:/Users/mikul/Desktop/Tartu/Neuroscience')"
   ]
  },
  {
   "cell_type": "code",
   "execution_count": 19,
   "metadata": {
    "colab": {},
    "colab_type": "code",
    "id": "KkfZBS9ytxJD"
   },
   "outputs": [],
   "source": [
    "kind = 'normal'\n",
    "filenames = [file.name for file in os.scandir(path/f'data/{kind}') if file.name.endswith('mat')]"
   ]
  },
  {
   "cell_type": "code",
   "execution_count": 23,
   "metadata": {
    "colab": {},
    "colab_type": "code",
    "id": "K_tjY8nNIz7-"
   },
   "outputs": [],
   "source": [
    "filename = filenames[0]\n",
    "mt = sio.loadmat(path/f'data/{kind}/{filename}')\n",
    "classes = pd.read_csv(path/'class_map.csv')\n",
    "istim = mt['stim'][0]['istim'][0]\n",
    "human_labels = classes.iloc[istim.flatten() - 1, -2].reset_index(drop=True).to_numpy().flatten()\n",
    "data = pd.DataFrame(mt['stim'][0]['resp'][0])\n",
    "data[\"label\"] = human_labels\n"
   ]
  },
  {
   "cell_type": "code",
   "execution_count": 24,
   "metadata": {
    "colab": {
     "base_uri": "https://localhost:8080/",
     "height": 444
    },
    "colab_type": "code",
    "executionInfo": {
     "elapsed": 6339,
     "status": "ok",
     "timestamp": 1578510354709,
     "user": {
      "displayName": "Mikuláš Bankovič",
      "photoUrl": "https://lh3.googleusercontent.com/a-/AAuE7mDCaJEaq2sAZjOV4AiuVtsWXPcs2O1AMiAqq2_9PXs=s64",
      "userId": "15633896100306712270"
     },
     "user_tz": -60
    },
    "id": "4e0jyYEVft2m",
    "outputId": "6a4bcc0c-af51-4858-f942-a37a10865a71"
   },
   "outputs": [
    {
     "data": {
      "text/html": [
       "<div>\n",
       "<style scoped>\n",
       "    .dataframe tbody tr th:only-of-type {\n",
       "        vertical-align: middle;\n",
       "    }\n",
       "\n",
       "    .dataframe tbody tr th {\n",
       "        vertical-align: top;\n",
       "    }\n",
       "\n",
       "    .dataframe thead th {\n",
       "        text-align: right;\n",
       "    }\n",
       "</style>\n",
       "<table border=\"1\" class=\"dataframe\">\n",
       "  <thead>\n",
       "    <tr style=\"text-align: right;\">\n",
       "      <th></th>\n",
       "      <th>0</th>\n",
       "      <th>1</th>\n",
       "      <th>2</th>\n",
       "      <th>3</th>\n",
       "      <th>4</th>\n",
       "      <th>5</th>\n",
       "      <th>6</th>\n",
       "      <th>7</th>\n",
       "      <th>8</th>\n",
       "      <th>9</th>\n",
       "      <th>...</th>\n",
       "      <th>11441</th>\n",
       "      <th>11442</th>\n",
       "      <th>11443</th>\n",
       "      <th>11444</th>\n",
       "      <th>11445</th>\n",
       "      <th>11446</th>\n",
       "      <th>11447</th>\n",
       "      <th>11448</th>\n",
       "      <th>mouse</th>\n",
       "      <th>label</th>\n",
       "    </tr>\n",
       "  </thead>\n",
       "  <tbody>\n",
       "    <tr>\n",
       "      <td>0</td>\n",
       "      <td>194.973572</td>\n",
       "      <td>0.000000</td>\n",
       "      <td>53.408745</td>\n",
       "      <td>0.000000</td>\n",
       "      <td>46.858601</td>\n",
       "      <td>0.000000</td>\n",
       "      <td>0.000000</td>\n",
       "      <td>41.717205</td>\n",
       "      <td>5.707734</td>\n",
       "      <td>102.776413</td>\n",
       "      <td>...</td>\n",
       "      <td>0.000000</td>\n",
       "      <td>75.781792</td>\n",
       "      <td>299.225800</td>\n",
       "      <td>12.199029</td>\n",
       "      <td>54.284374</td>\n",
       "      <td>0.0</td>\n",
       "      <td>0.000000</td>\n",
       "      <td>0.000000</td>\n",
       "      <td>M160825_MP027</td>\n",
       "      <td>1</td>\n",
       "    </tr>\n",
       "    <tr>\n",
       "      <td>1</td>\n",
       "      <td>0.000000</td>\n",
       "      <td>0.000000</td>\n",
       "      <td>22.116821</td>\n",
       "      <td>0.000000</td>\n",
       "      <td>0.000000</td>\n",
       "      <td>0.666719</td>\n",
       "      <td>125.248077</td>\n",
       "      <td>0.000000</td>\n",
       "      <td>6.119335</td>\n",
       "      <td>335.380920</td>\n",
       "      <td>...</td>\n",
       "      <td>7.047085</td>\n",
       "      <td>5.337531</td>\n",
       "      <td>0.000000</td>\n",
       "      <td>2.759200</td>\n",
       "      <td>0.000000</td>\n",
       "      <td>0.0</td>\n",
       "      <td>0.000000</td>\n",
       "      <td>8.732859</td>\n",
       "      <td>M160825_MP027</td>\n",
       "      <td>2</td>\n",
       "    </tr>\n",
       "    <tr>\n",
       "      <td>2</td>\n",
       "      <td>61.256119</td>\n",
       "      <td>0.000000</td>\n",
       "      <td>0.000000</td>\n",
       "      <td>0.000000</td>\n",
       "      <td>0.000000</td>\n",
       "      <td>6.290152</td>\n",
       "      <td>0.000000</td>\n",
       "      <td>0.000000</td>\n",
       "      <td>4.204159</td>\n",
       "      <td>0.000000</td>\n",
       "      <td>...</td>\n",
       "      <td>110.951653</td>\n",
       "      <td>64.534515</td>\n",
       "      <td>0.000000</td>\n",
       "      <td>0.000000</td>\n",
       "      <td>0.000000</td>\n",
       "      <td>0.0</td>\n",
       "      <td>30.993013</td>\n",
       "      <td>0.000000</td>\n",
       "      <td>M160825_MP027</td>\n",
       "      <td>10</td>\n",
       "    </tr>\n",
       "    <tr>\n",
       "      <td>3</td>\n",
       "      <td>0.000000</td>\n",
       "      <td>21.435583</td>\n",
       "      <td>0.000000</td>\n",
       "      <td>21.282154</td>\n",
       "      <td>119.617920</td>\n",
       "      <td>0.000000</td>\n",
       "      <td>0.000000</td>\n",
       "      <td>0.000000</td>\n",
       "      <td>0.000000</td>\n",
       "      <td>0.000000</td>\n",
       "      <td>...</td>\n",
       "      <td>0.000000</td>\n",
       "      <td>0.000000</td>\n",
       "      <td>0.000000</td>\n",
       "      <td>3.020878</td>\n",
       "      <td>43.820621</td>\n",
       "      <td>0.0</td>\n",
       "      <td>12.523590</td>\n",
       "      <td>0.377890</td>\n",
       "      <td>M160825_MP027</td>\n",
       "      <td>2</td>\n",
       "    </tr>\n",
       "    <tr>\n",
       "      <td>4</td>\n",
       "      <td>0.000000</td>\n",
       "      <td>0.000000</td>\n",
       "      <td>0.000000</td>\n",
       "      <td>40.089649</td>\n",
       "      <td>0.000000</td>\n",
       "      <td>0.000000</td>\n",
       "      <td>0.000000</td>\n",
       "      <td>30.797470</td>\n",
       "      <td>15.099210</td>\n",
       "      <td>0.000000</td>\n",
       "      <td>...</td>\n",
       "      <td>0.000000</td>\n",
       "      <td>7.826375</td>\n",
       "      <td>0.000000</td>\n",
       "      <td>0.000000</td>\n",
       "      <td>20.586674</td>\n",
       "      <td>0.0</td>\n",
       "      <td>0.000000</td>\n",
       "      <td>0.000000</td>\n",
       "      <td>M160825_MP027</td>\n",
       "      <td>12</td>\n",
       "    </tr>\n",
       "    <tr>\n",
       "      <td>...</td>\n",
       "      <td>...</td>\n",
       "      <td>...</td>\n",
       "      <td>...</td>\n",
       "      <td>...</td>\n",
       "      <td>...</td>\n",
       "      <td>...</td>\n",
       "      <td>...</td>\n",
       "      <td>...</td>\n",
       "      <td>...</td>\n",
       "      <td>...</td>\n",
       "      <td>...</td>\n",
       "      <td>...</td>\n",
       "      <td>...</td>\n",
       "      <td>...</td>\n",
       "      <td>...</td>\n",
       "      <td>...</td>\n",
       "      <td>...</td>\n",
       "      <td>...</td>\n",
       "      <td>...</td>\n",
       "      <td>...</td>\n",
       "      <td>...</td>\n",
       "    </tr>\n",
       "    <tr>\n",
       "      <td>5421</td>\n",
       "      <td>0.000000</td>\n",
       "      <td>11.626046</td>\n",
       "      <td>0.000000</td>\n",
       "      <td>14.231453</td>\n",
       "      <td>27.082214</td>\n",
       "      <td>0.000000</td>\n",
       "      <td>10.986835</td>\n",
       "      <td>15.401035</td>\n",
       "      <td>0.000000</td>\n",
       "      <td>10.946131</td>\n",
       "      <td>...</td>\n",
       "      <td>0.000000</td>\n",
       "      <td>0.000000</td>\n",
       "      <td>0.000000</td>\n",
       "      <td>19.197144</td>\n",
       "      <td>59.831867</td>\n",
       "      <td>0.0</td>\n",
       "      <td>17.349279</td>\n",
       "      <td>11.952947</td>\n",
       "      <td>M160825_MP027</td>\n",
       "      <td>3</td>\n",
       "    </tr>\n",
       "    <tr>\n",
       "      <td>5422</td>\n",
       "      <td>16.796387</td>\n",
       "      <td>0.000000</td>\n",
       "      <td>31.725042</td>\n",
       "      <td>0.000000</td>\n",
       "      <td>6.181811</td>\n",
       "      <td>21.502804</td>\n",
       "      <td>45.545074</td>\n",
       "      <td>0.000000</td>\n",
       "      <td>0.000000</td>\n",
       "      <td>0.000000</td>\n",
       "      <td>...</td>\n",
       "      <td>4.093896</td>\n",
       "      <td>0.000000</td>\n",
       "      <td>0.000000</td>\n",
       "      <td>0.000000</td>\n",
       "      <td>0.000000</td>\n",
       "      <td>0.0</td>\n",
       "      <td>27.642668</td>\n",
       "      <td>8.209282</td>\n",
       "      <td>M160825_MP027</td>\n",
       "      <td>4</td>\n",
       "    </tr>\n",
       "    <tr>\n",
       "      <td>5423</td>\n",
       "      <td>0.000000</td>\n",
       "      <td>0.000000</td>\n",
       "      <td>0.000000</td>\n",
       "      <td>0.000000</td>\n",
       "      <td>0.000000</td>\n",
       "      <td>23.504637</td>\n",
       "      <td>21.942738</td>\n",
       "      <td>14.109905</td>\n",
       "      <td>0.000000</td>\n",
       "      <td>2.541365</td>\n",
       "      <td>...</td>\n",
       "      <td>42.245495</td>\n",
       "      <td>0.000000</td>\n",
       "      <td>0.000000</td>\n",
       "      <td>0.000000</td>\n",
       "      <td>0.000000</td>\n",
       "      <td>0.0</td>\n",
       "      <td>0.000000</td>\n",
       "      <td>0.000000</td>\n",
       "      <td>M160825_MP027</td>\n",
       "      <td>2</td>\n",
       "    </tr>\n",
       "    <tr>\n",
       "      <td>5424</td>\n",
       "      <td>0.000000</td>\n",
       "      <td>15.039160</td>\n",
       "      <td>0.000000</td>\n",
       "      <td>0.000000</td>\n",
       "      <td>0.000000</td>\n",
       "      <td>0.000000</td>\n",
       "      <td>11.101737</td>\n",
       "      <td>1.634781</td>\n",
       "      <td>0.000000</td>\n",
       "      <td>1.608242</td>\n",
       "      <td>...</td>\n",
       "      <td>0.000000</td>\n",
       "      <td>0.000000</td>\n",
       "      <td>58.545132</td>\n",
       "      <td>0.000000</td>\n",
       "      <td>0.000000</td>\n",
       "      <td>0.0</td>\n",
       "      <td>0.000000</td>\n",
       "      <td>22.635685</td>\n",
       "      <td>M160825_MP027</td>\n",
       "      <td>0</td>\n",
       "    </tr>\n",
       "    <tr>\n",
       "      <td>5425</td>\n",
       "      <td>10.637296</td>\n",
       "      <td>26.069925</td>\n",
       "      <td>9.912197</td>\n",
       "      <td>38.209045</td>\n",
       "      <td>133.024567</td>\n",
       "      <td>0.000000</td>\n",
       "      <td>0.000000</td>\n",
       "      <td>21.819136</td>\n",
       "      <td>0.000000</td>\n",
       "      <td>69.764099</td>\n",
       "      <td>...</td>\n",
       "      <td>41.875515</td>\n",
       "      <td>9.542346</td>\n",
       "      <td>0.000000</td>\n",
       "      <td>22.943882</td>\n",
       "      <td>0.000000</td>\n",
       "      <td>0.0</td>\n",
       "      <td>0.000000</td>\n",
       "      <td>41.482918</td>\n",
       "      <td>M160825_MP027</td>\n",
       "      <td>0</td>\n",
       "    </tr>\n",
       "  </tbody>\n",
       "</table>\n",
       "<p>5426 rows × 11451 columns</p>\n",
       "</div>"
      ],
      "text/plain": [
       "               0          1          2          3           4          5  \\\n",
       "0     194.973572   0.000000  53.408745   0.000000   46.858601   0.000000   \n",
       "1       0.000000   0.000000  22.116821   0.000000    0.000000   0.666719   \n",
       "2      61.256119   0.000000   0.000000   0.000000    0.000000   6.290152   \n",
       "3       0.000000  21.435583   0.000000  21.282154  119.617920   0.000000   \n",
       "4       0.000000   0.000000   0.000000  40.089649    0.000000   0.000000   \n",
       "...          ...        ...        ...        ...         ...        ...   \n",
       "5421    0.000000  11.626046   0.000000  14.231453   27.082214   0.000000   \n",
       "5422   16.796387   0.000000  31.725042   0.000000    6.181811  21.502804   \n",
       "5423    0.000000   0.000000   0.000000   0.000000    0.000000  23.504637   \n",
       "5424    0.000000  15.039160   0.000000   0.000000    0.000000   0.000000   \n",
       "5425   10.637296  26.069925   9.912197  38.209045  133.024567   0.000000   \n",
       "\n",
       "               6          7          8           9  ...       11441  \\\n",
       "0       0.000000  41.717205   5.707734  102.776413  ...    0.000000   \n",
       "1     125.248077   0.000000   6.119335  335.380920  ...    7.047085   \n",
       "2       0.000000   0.000000   4.204159    0.000000  ...  110.951653   \n",
       "3       0.000000   0.000000   0.000000    0.000000  ...    0.000000   \n",
       "4       0.000000  30.797470  15.099210    0.000000  ...    0.000000   \n",
       "...          ...        ...        ...         ...  ...         ...   \n",
       "5421   10.986835  15.401035   0.000000   10.946131  ...    0.000000   \n",
       "5422   45.545074   0.000000   0.000000    0.000000  ...    4.093896   \n",
       "5423   21.942738  14.109905   0.000000    2.541365  ...   42.245495   \n",
       "5424   11.101737   1.634781   0.000000    1.608242  ...    0.000000   \n",
       "5425    0.000000  21.819136   0.000000   69.764099  ...   41.875515   \n",
       "\n",
       "          11442       11443      11444      11445  11446      11447  \\\n",
       "0     75.781792  299.225800  12.199029  54.284374    0.0   0.000000   \n",
       "1      5.337531    0.000000   2.759200   0.000000    0.0   0.000000   \n",
       "2     64.534515    0.000000   0.000000   0.000000    0.0  30.993013   \n",
       "3      0.000000    0.000000   3.020878  43.820621    0.0  12.523590   \n",
       "4      7.826375    0.000000   0.000000  20.586674    0.0   0.000000   \n",
       "...         ...         ...        ...        ...    ...        ...   \n",
       "5421   0.000000    0.000000  19.197144  59.831867    0.0  17.349279   \n",
       "5422   0.000000    0.000000   0.000000   0.000000    0.0  27.642668   \n",
       "5423   0.000000    0.000000   0.000000   0.000000    0.0   0.000000   \n",
       "5424   0.000000   58.545132   0.000000   0.000000    0.0   0.000000   \n",
       "5425   9.542346    0.000000  22.943882   0.000000    0.0   0.000000   \n",
       "\n",
       "          11448          mouse  label  \n",
       "0      0.000000  M160825_MP027      1  \n",
       "1      8.732859  M160825_MP027      2  \n",
       "2      0.000000  M160825_MP027     10  \n",
       "3      0.377890  M160825_MP027      2  \n",
       "4      0.000000  M160825_MP027     12  \n",
       "...         ...            ...    ...  \n",
       "5421  11.952947  M160825_MP027      3  \n",
       "5422   8.209282  M160825_MP027      4  \n",
       "5423   0.000000  M160825_MP027      2  \n",
       "5424  22.635685  M160825_MP027      0  \n",
       "5425  41.482918  M160825_MP027      0  \n",
       "\n",
       "[5426 rows x 11451 columns]"
      ]
     },
     "execution_count": 24,
     "metadata": {},
     "output_type": "execute_result"
    }
   ],
   "source": [
    "data"
   ]
  },
  {
   "cell_type": "code",
   "execution_count": 22,
   "metadata": {
    "colab": {},
    "colab_type": "code",
    "id": "GGCjYtYw01Tf"
   },
   "outputs": [
    {
     "ename": "NameError",
     "evalue": "name 'train' is not defined",
     "output_type": "error",
     "traceback": [
      "\u001b[1;31m---------------------------------------------------------------------------\u001b[0m",
      "\u001b[1;31mNameError\u001b[0m                                 Traceback (most recent call last)",
      "\u001b[1;32m<ipython-input-22-69b809f7f4ec>\u001b[0m in \u001b[0;36m<module>\u001b[1;34m\u001b[0m\n\u001b[1;32m----> 1\u001b[1;33m \u001b[0mX_train\u001b[0m\u001b[1;33m,\u001b[0m \u001b[0mX_test\u001b[0m\u001b[1;33m,\u001b[0m \u001b[0my_train\u001b[0m\u001b[1;33m,\u001b[0m \u001b[0my_test\u001b[0m \u001b[1;33m=\u001b[0m \u001b[0mtrain_test_split\u001b[0m\u001b[1;33m(\u001b[0m\u001b[0mtrain\u001b[0m\u001b[1;33m.\u001b[0m\u001b[0miloc\u001b[0m\u001b[1;33m[\u001b[0m\u001b[1;33m:\u001b[0m\u001b[1;33m,\u001b[0m \u001b[1;33m:\u001b[0m\u001b[1;33m-\u001b[0m\u001b[1;36m2\u001b[0m\u001b[1;33m]\u001b[0m\u001b[1;33m,\u001b[0m \u001b[0mtrain\u001b[0m\u001b[1;33m.\u001b[0m\u001b[0miloc\u001b[0m\u001b[1;33m[\u001b[0m\u001b[1;33m:\u001b[0m\u001b[1;33m,\u001b[0m \u001b[1;33m-\u001b[0m\u001b[1;36m1\u001b[0m\u001b[1;33m]\u001b[0m\u001b[1;33m)\u001b[0m\u001b[1;33m\u001b[0m\u001b[1;33m\u001b[0m\u001b[0m\n\u001b[0m",
      "\u001b[1;31mNameError\u001b[0m: name 'train' is not defined"
     ]
    }
   ],
   "source": [
    "X_train, X_test, y_train, y_test = train_test_split(train.iloc[:, :-2], train.iloc[:, -1])"
   ]
  },
  {
   "cell_type": "code",
   "execution_count": 0,
   "metadata": {
    "colab": {},
    "colab_type": "code",
    "id": "EBK_3xRK1K0U"
   },
   "outputs": [],
   "source": [
    "encoder = LabelEncoder()\n",
    "y = encoder.fit_transform(train.iloc[:, -1])\n",
    "\n",
    "scaler = StandardScaler()\n",
    "X = scaler.fit_transform(train.iloc[:, :-2])"
   ]
  },
  {
   "cell_type": "markdown",
   "metadata": {
    "colab_type": "text",
    "id": "nWjH0dKf4tj2"
   },
   "source": [
    "## AdaBoost classifier"
   ]
  },
  {
   "cell_type": "code",
   "execution_count": 0,
   "metadata": {
    "colab": {},
    "colab_type": "code",
    "id": "vQMQhUte1iDS"
   },
   "outputs": [],
   "source": [
    "model = AdaBoostClassifier(n_estimators=100)"
   ]
  },
  {
   "cell_type": "code",
   "execution_count": 0,
   "metadata": {
    "colab": {
     "base_uri": "https://localhost:8080/",
     "height": 35
    },
    "colab_type": "code",
    "executionInfo": {
     "elapsed": 1596763,
     "status": "ok",
     "timestamp": 1578518324477,
     "user": {
      "displayName": "Mikuláš Bankovič",
      "photoUrl": "https://lh3.googleusercontent.com/a-/AAuE7mDCaJEaq2sAZjOV4AiuVtsWXPcs2O1AMiAqq2_9PXs=s64",
      "userId": "15633896100306712270"
     },
     "user_tz": -60
    },
    "id": "p69-GTJ-1u1s",
    "outputId": "c3609c7e-67af-46e2-8a5d-91efa707fa73"
   },
   "outputs": [
    {
     "data": {
      "text/plain": [
       "array([0.16156463, 0.15986395, 0.16156463, 0.14285714, 0.13945578])"
      ]
     },
     "execution_count": 88,
     "metadata": {
      "tags": []
     },
     "output_type": "execute_result"
    }
   ],
   "source": [
    "cross_val_score(model, X, y=y, cv=5)"
   ]
  },
  {
   "cell_type": "markdown",
   "metadata": {
    "colab_type": "text",
    "id": "x-RPyKEB3V50"
   },
   "source": [
    "## Random forest classifier"
   ]
  },
  {
   "cell_type": "code",
   "execution_count": 0,
   "metadata": {
    "colab": {},
    "colab_type": "code",
    "id": "-Kd8rgU13X2m"
   },
   "outputs": [],
   "source": [
    "model = RandomForestClassifier(n_estimators=1000)"
   ]
  },
  {
   "cell_type": "code",
   "execution_count": 0,
   "metadata": {
    "colab": {
     "base_uri": "https://localhost:8080/",
     "height": 35
    },
    "colab_type": "code",
    "executionInfo": {
     "elapsed": 2315204,
     "status": "ok",
     "timestamp": 1578519043778,
     "user": {
      "displayName": "Mikuláš Bankovič",
      "photoUrl": "https://lh3.googleusercontent.com/a-/AAuE7mDCaJEaq2sAZjOV4AiuVtsWXPcs2O1AMiAqq2_9PXs=s64",
      "userId": "15633896100306712270"
     },
     "user_tz": -60
    },
    "id": "aEaYiLdk3vHX",
    "outputId": "19e3c247-5b31-42a7-fa00-20394440ca3d"
   },
   "outputs": [
    {
     "data": {
      "text/plain": [
       "array([0.18197279, 0.17857143, 0.17687075, 0.18707483, 0.19047619])"
      ]
     },
     "execution_count": 90,
     "metadata": {
      "tags": []
     },
     "output_type": "execute_result"
    }
   ],
   "source": [
    "cross_val_score(model, X, y=y, cv=5)"
   ]
  },
  {
   "cell_type": "markdown",
   "metadata": {
    "colab_type": "text",
    "id": "sc20MA--31FH"
   },
   "source": [
    "## XGBoost classifier"
   ]
  },
  {
   "cell_type": "code",
   "execution_count": 0,
   "metadata": {
    "colab": {},
    "colab_type": "code",
    "id": "BMqgXE--40_k"
   },
   "outputs": [],
   "source": [
    " model = XGBClassifier()"
   ]
  },
  {
   "cell_type": "code",
   "execution_count": 0,
   "metadata": {
    "colab": {},
    "colab_type": "code",
    "id": "xd0L3eFF45gS"
   },
   "outputs": [],
   "source": [
    "cross_val_score(model, X, y=y, cv=5)"
   ]
  },
  {
   "cell_type": "code",
   "execution_count": 0,
   "metadata": {
    "colab": {},
    "colab_type": "code",
    "id": "ghGEFkm-2roS"
   },
   "outputs": [],
   "source": [
    "confusion_matrix(y, model.predict(X))"
   ]
  },
  {
   "cell_type": "markdown",
   "metadata": {
    "colab_type": "text",
    "id": "f6eV9JfSd8MP"
   },
   "source": [
    "## KNN"
   ]
  },
  {
   "cell_type": "code",
   "execution_count": 0,
   "metadata": {
    "colab": {},
    "colab_type": "code",
    "id": "Ez83cIAcd6F1"
   },
   "outputs": [],
   "source": [
    "model = KNeighborsClassifier(n_neighbors=5)\n",
    "cross_val_score(model, X_test, y=y_test, cv=5).mean()"
   ]
  }
 ],
 "metadata": {
  "colab": {
   "name": "raw_sklearn.ipynb",
   "provenance": []
  },
  "kernelspec": {
   "display_name": "Python 3",
   "language": "python",
   "name": "python3"
  },
  "language_info": {
   "codemirror_mode": {
    "name": "ipython",
    "version": 3
   },
   "file_extension": ".py",
   "mimetype": "text/x-python",
   "name": "python",
   "nbconvert_exporter": "python",
   "pygments_lexer": "ipython3",
   "version": "3.7.4"
  }
 },
 "nbformat": 4,
 "nbformat_minor": 1
}
